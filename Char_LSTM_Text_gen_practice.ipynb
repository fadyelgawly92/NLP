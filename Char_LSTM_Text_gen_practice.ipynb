{
  "nbformat": 4,
  "nbformat_minor": 0,
  "metadata": {
    "colab": {
      "provenance": []
    },
    "kernelspec": {
      "name": "python3",
      "display_name": "Python 3"
    },
    "language_info": {
      "name": "python"
    },
    "accelerator": "GPU",
    "gpuClass": "standard"
  },
  "cells": [
    {
      "cell_type": "code",
      "execution_count": null,
      "metadata": {
        "id": "1sljmFdjcYD0"
      },
      "outputs": [],
      "source": [
        "from __future__ import print_function\n",
        "from keras.callbacks import LambdaCallback\n",
        "from keras.models import Sequential\n",
        "from keras.layers import Dense\n",
        "from keras.layers import LSTM\n",
        "from keras.optimizers import RMSprop\n",
        "from keras.utils.data_utils import get_file\n",
        "import numpy as np\n",
        "import random\n",
        "import sys\n",
        "import io"
      ]
    },
    {
      "cell_type": "code",
      "source": [
        "path = get_file(\n",
        "    'nietzsche.txt',\n",
        "    origin='https://s3.amazonaws.com/text-datasets/nietzsche.txt')\n",
        "with io.open(path, encoding='utf-8') as f:\n",
        "    text = f.read().lower()\n",
        "print('corpus length:', len(text))\n",
        "\n",
        "chars = sorted(list(set(text)))\n",
        "print('total chars:', len(chars))\n",
        "char_indices = dict((c, i) for i, c in enumerate(chars))\n",
        "indices_char = dict((i, c) for i, c in enumerate(chars))\n",
        "\n",
        "# cut the text in semi-redundant sequences of maxlen characters\n",
        "maxlen = 40\n",
        "step = 3\n",
        "sentences = []\n",
        "next_chars = []\n",
        "for i in range(0, len(text) - maxlen, step):\n",
        "    sentences.append(text[i: i + maxlen])\n",
        "    next_chars.append(text[i + maxlen])\n",
        "print('nb sequences:', len(sentences))\n",
        "print(len(next_chars))\n",
        "\n",
        "print('Vectorization...')\n",
        "x = np.zeros((len(sentences), maxlen, len(chars)), dtype=np.bool)\n",
        "y = np.zeros((len(sentences), len(chars)), dtype=np.bool)\n",
        "for i, sentence in enumerate(sentences):\n",
        "    for t, char in enumerate(sentence):\n",
        "        x[i, t, char_indices[char]] = 1\n",
        "    y[i, char_indices[next_chars[i]]] = 1\n",
        "\n",
        "print(x.shape , y.shape)    "
      ],
      "metadata": {
        "colab": {
          "base_uri": "https://localhost:8080/"
        },
        "id": "zTL3x08FkiWr",
        "outputId": "2d22a781-89ba-46f9-b8f2-6b5159df59a6"
      },
      "execution_count": null,
      "outputs": [
        {
          "output_type": "stream",
          "name": "stdout",
          "text": [
            "Downloading data from https://s3.amazonaws.com/text-datasets/nietzsche.txt\n",
            "600901/600901 [==============================] - 1s 2us/step\n",
            "corpus length: 600893\n",
            "total chars: 57\n",
            "nb sequences: 200285\n",
            "200285\n",
            "Vectorization...\n"
          ]
        },
        {
          "output_type": "stream",
          "name": "stderr",
          "text": [
            "/usr/local/lib/python3.7/dist-packages/ipykernel_launcher.py:25: DeprecationWarning: `np.bool` is a deprecated alias for the builtin `bool`. To silence this warning, use `bool` by itself. Doing this will not modify any behavior and is safe. If you specifically wanted the numpy scalar type, use `np.bool_` here.\n",
            "Deprecated in NumPy 1.20; for more details and guidance: https://numpy.org/devdocs/release/1.20.0-notes.html#deprecations\n",
            "/usr/local/lib/python3.7/dist-packages/ipykernel_launcher.py:26: DeprecationWarning: `np.bool` is a deprecated alias for the builtin `bool`. To silence this warning, use `bool` by itself. Doing this will not modify any behavior and is safe. If you specifically wanted the numpy scalar type, use `np.bool_` here.\n",
            "Deprecated in NumPy 1.20; for more details and guidance: https://numpy.org/devdocs/release/1.20.0-notes.html#deprecations\n"
          ]
        },
        {
          "output_type": "stream",
          "name": "stdout",
          "text": [
            "(200285, 40, 57) (200285, 57)\n"
          ]
        }
      ]
    },
    {
      "cell_type": "code",
      "source": [
        "# build the model: a single LSTM\n",
        "print('Build model...')\n",
        "model = Sequential()\n",
        "model.add(LSTM(128, input_shape=(maxlen, len(chars))))\n",
        "model.add(Dense(len(chars), activation='softmax'))\n",
        "\n",
        "optimizer = RMSprop(learning_rate=0.01)\n",
        "model.compile(loss='categorical_crossentropy', optimizer=optimizer)\n",
        "\n",
        "\n",
        "def sample(preds, temperature=1.0):\n",
        "    # helper function to sample an index from a probability array\n",
        "    preds = np.asarray(preds).astype('float64')\n",
        "    preds = np.log(preds) / temperature\n",
        "    exp_preds = np.exp(preds)\n",
        "    preds = exp_preds / np.sum(exp_preds)\n",
        "    probas = np.random.multinomial(1, preds, 1)\n",
        "    return np.argmax(probas)\n",
        "\n",
        "\n",
        "def on_epoch_end(epoch, _):\n",
        "    # Function invoked at end of each epoch. Prints generated text.\n",
        "    print()\n",
        "    print('----- Generating text after Epoch: %d' % epoch)\n",
        "\n",
        "    start_index = random.randint(0, len(text) - maxlen - 1)\n",
        "    for diversity in [0.2, 0.5, 1.0, 1.2]:\n",
        "        print('----- diversity:', diversity)\n",
        "\n",
        "        generated = ''\n",
        "        sentence = text[start_index: start_index + maxlen]\n",
        "        generated += sentence\n",
        "        print('----- Generating with seed: \"' + sentence + '\"')\n",
        "        sys.stdout.write(generated)\n",
        "\n",
        "        for i in range(400):\n",
        "            x_pred = np.zeros((1, maxlen, len(chars)))\n",
        "            for t, char in enumerate(sentence):\n",
        "                x_pred[0, t, char_indices[char]] = 1.\n",
        "\n",
        "            preds = model.predict(x_pred, verbose=0)[0]\n",
        "            next_index = sample(preds, diversity)\n",
        "            next_char = indices_char[next_index]\n",
        "\n",
        "            sentence = sentence[1:] + next_char\n",
        "            sys.stdout.write(next_char)\n",
        "            sys.stdout.flush()\n",
        "        print()\n",
        "\n",
        "print_callback = LambdaCallback(on_epoch_end=on_epoch_end)\n",
        "\n",
        "model.fit(x, y,\n",
        "          batch_size=128,\n",
        "          epochs=60,\n",
        "          callbacks=[print_callback])"
      ],
      "metadata": {
        "colab": {
          "base_uri": "https://localhost:8080/"
        },
        "id": "bUOB-ED4lY9u",
        "outputId": "eef00f42-5af9-4256-b654-fa4c416baa70"
      },
      "execution_count": null,
      "outputs": [
        {
          "output_type": "stream",
          "name": "stdout",
          "text": [
            "Build model...\n",
            "Epoch 1/60\n",
            "1565/1565 [==============================] - ETA: 0s - loss: 1.9680\n",
            "----- Generating text after Epoch: 0\n",
            "----- diversity: 0.2\n",
            "----- Generating with seed: \"has rights, but very\n",
            "limited ones. hence\"\n",
            "has rights, but very\n",
            "limited ones. hence and some he was all the perhaps the were consting the conscion of the was one's of the proble with the the more the probacion of the worth and extention of the some perhaps to the stande of the work of the were and the probaction of the wast of the some here of the prosenting to the were some here is the sense of the consequent of the were sense of the were some of the more of the more of the som\n",
            "----- diversity: 0.5\n",
            "----- Generating with seed: \"has rights, but very\n",
            "limited ones. hence\"\n",
            "has rights, but very\n",
            "limited ones. hence to the has all not he was constance of the loves and extentic to the percapsion of which the possible of must always and considerations of the painted and manifest of the\n",
            "is a poseration of the comparical does he dearalises, your he can he and himself is to be refeence the the herestart of the baderest intentions to the caption and which here some with contousts is all only and verith as end comp\n",
            "----- diversity: 1.0\n",
            "----- Generating with seed: \"has rights, but very\n",
            "limited ones. hence\"\n",
            "has rights, but very\n",
            "limited ones. hence, is been my shames viged ear as theiry!\n",
            "\n",
            "upy with condiction, is re-wold of gur the one! of humans, the recenceiver great instinction, the poderive\n",
            "exevent exteuted oney hip.\n",
            "=) chieved for for their a yeithertatims, putispinesing the god, is mostortwross. that the etietise.) the were with\n",
            "reaudly and\n",
            "egaising in ethougther, and schull owe\"sases.\" encowed, egaveance and mestlys, to seuverow, in c\n",
            "----- diversity: 1.2\n",
            "----- Generating with seed: \"has rights, but very\n",
            "limited ones. hence\"\n",
            "has rights, but very\n",
            "limited ones. henceib, eartul\n",
            "emasne. the someares to owe\n",
            "and ombatwhyorialy the vessical conso comenmin\n",
            "as a interposte that understas ocrouswologe, moraless: lever.\n",
            "\n",
            "\n",
            "hilks go gnatakence, there\n",
            "fuly and interprative, and ligout ofoupse \n",
            ". his shask fonl\n",
            "compectican sim, who will alsemest.\n",
            "influcts, lake a paintlessatical heart, and eptiom reffeliticushars weiln,s justly re: thungne no, happilification, unflected w\n",
            "1565/1565 [==============================] - 133s 52ms/step - loss: 1.9680\n",
            "Epoch 2/60\n",
            "1559/1565 [============================>.] - ETA: 0s - loss: 1.6203\n",
            "----- Generating text after Epoch: 1\n",
            "----- diversity: 0.2\n",
            "----- Generating with seed: \" regulate their conduct according to the\"\n",
            " regulate their conduct according to the such and the considerious and every he developit and the self-concein and more consist the such an and the self-in the respect of the self-were the self-were some desires and the consider and the can the consider the self-consider the such an and the consider to the considerious and the solition of the considerious and devil to the soul of the consider the self--the such an and the such and an an\n",
            "----- diversity: 0.5\n",
            "----- Generating with seed: \" regulate their conduct according to the\"\n",
            " regulate their conduct according to the consist and more frectifl and some man and advance and this he can the consider in the \"low world and the self--for the sent to a there the self-out the pain of the tood considers\n",
            "in the experses of the an and his want the soul not can more consider and man to seems of more most mean the places the founder and self-must the mast an instinction, to the most indiscious into they there is the appear\n",
            "----- diversity: 1.0\n",
            "----- Generating with seed: \" regulate their conduct according to the\"\n",
            " regulate their conduct according to there. the came\n",
            "must\n",
            "never,\n",
            "in the i this under all not out has to to also gree dact with at one class; even to on civilination in reening sense for their understoss in syntaticals, himself compine with on this divigual fidst to the\n",
            "interted a most volitienizations. must tert my estaws and bejougit\" whichs thoughtys, it is the great and\n",
            "negaty again orlaws manted crithy it croy this orcent this every\n",
            "----- diversity: 1.2\n",
            "----- Generating with seed: \" regulate their conduct according to the\"\n",
            " regulate their conduct according to the priedt;\n",
            "of hlis,ss, egarniggs; but not we ever in ever not ow\n",
            "has posel, an\n",
            "as its all tamegn--it to kneugher eli-enciant us as them beingmanc\n",
            "its, operies of cer than they actors whose, the rideds hence and the convimster.--that meant\" of sense\",\n",
            "whiech is tirepage it is attains mysoluni in all throudg sciemity by doe. the? ary that,\n",
            "ney may to an ix to sibsed its.lon, whufein, that\n",
            "playour, ins\n",
            "1565/1565 [==============================] - 80s 51ms/step - loss: 1.6203\n",
            "Epoch 3/60\n",
            "  22/1565 [..............................] - ETA: 12s - loss: 1.5320"
          ]
        }
      ]
    },
    {
      "cell_type": "code",
      "source": [],
      "metadata": {
        "id": "Yu6xjsPop2Ws"
      },
      "execution_count": null,
      "outputs": []
    }
  ]
}